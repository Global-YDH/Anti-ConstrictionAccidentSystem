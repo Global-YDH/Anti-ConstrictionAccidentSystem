{
 "cells": [
  {
   "cell_type": "markdown",
   "id": "1f4df7ae",
   "metadata": {},
   "source": [
    "## 검색 첫 페이지 결과만 크롤링하는 코드"
   ]
  },
  {
   "cell_type": "code",
   "execution_count": null,
   "id": "5032574e",
   "metadata": {},
   "outputs": [],
   "source": [
    "import requests\n",
    "from bs4 import BeautifulSoup\n",
    "\n",
    "\n",
    "def get_video_links(query):\n",
    "    url = f\"https://www.google.com/search?q={query}&tbm=vid\"\n",
    "    headers = {\n",
    "        \"User-Agent\": \"Mozilla/5.0 (Windows NT 10.0; Win64; x64) AppleWebKit/537.36 (KHTML, like Gecko) Chrome/111.0.0.0 Safari/537.36\"\n",
    "    }\n",
    "\n",
    "    response = requests.get(url, headers=headers)\n",
    "    soup = BeautifulSoup(response.content, \"html.parser\")\n",
    "    video_links = []\n",
    "    for link in soup.find_all(\"a\"):\n",
    "        href = link.get(\"href\")\n",
    "        if href and \"watch?v=\" in href:\n",
    "            video_links.append(href)\n",
    "    return video_links\n",
    "\n",
    "\n",
    "query = \"hydraulics rolling machine manual\"\n",
    "video_links = get_video_links(query)\n",
    "print(video_links)\n"
   ]
  },
  {
   "cell_type": "markdown",
   "id": "998291d0",
   "metadata": {},
   "source": [
    "## 검색 페이지 범위 지정해서 나오는 결과 크롤링\n",
    "* 링크를 리스트타입으로 저장"
   ]
  },
  {
   "cell_type": "code",
   "execution_count": 1,
   "id": "ab6e5430",
   "metadata": {},
   "outputs": [
    {
     "name": "stdout",
     "output_type": "stream",
     "text": [
      "['https://www.youtube.com/watch?v=3sxj5pYDmpk', 'https://www.youtube.com/watch?v=FGpHSciKReE', 'https://www.youtube.com/watch?v=qej7qiXHccY', 'https://www.youtube.com/watch?v=lzlea6Ut1Ho']\n"
     ]
    }
   ],
   "source": [
    "import requests\n",
    "from bs4 import BeautifulSoup\n",
    "\n",
    "\n",
    "def get_video_links(query, start_page, end_page):\n",
    "    video_links = []\n",
    "    for page in range(start_page, end_page + 1):\n",
    "        url = (\n",
    "            f\"https://www.google.com/search?q={query}&tbm=vid&start={str((page-1)*10)}\"\n",
    "        )\n",
    "        headers = {\n",
    "            \"User-Agent\": \"Mozilla/5.0 (Windows NT 10.0; Win64; x64) AppleWebKit/537.36 (KHTML, like Gecko) Chrome/58.0.3029.110 Safari/537.3\"\n",
    "        }\n",
    "\n",
    "        response = requests.get(url, headers=headers)\n",
    "        soup = BeautifulSoup(response.content, \"html.parser\")\n",
    "        for link in soup.find_all(\"a\"):\n",
    "            href = link.get(\"href\")\n",
    "            if href and \"watch?v=\" in href:\n",
    "                video_links.append(href)\n",
    "    return video_links\n",
    "\n",
    "\n",
    "query = \"hydraulics rolling machine manual\"\n",
    "start_page = 1\n",
    "end_page = 3\n",
    "video_links = get_video_links(query, start_page, end_page)\n",
    "print(video_links)\n"
   ]
  },
  {
   "cell_type": "markdown",
   "id": "f03051aa",
   "metadata": {},
   "source": [
    "## 검색 결과를 인덱스 붙여서 series타입으로 저장\n",
    "* 딕셔너리랑 비슷"
   ]
  },
  {
   "cell_type": "code",
   "execution_count": 36,
   "id": "79a09fb2",
   "metadata": {},
   "outputs": [
    {
     "name": "stdout",
     "output_type": "stream",
     "text": [
      "0: https://www.youtube.com/watch?v=qej7qiXHccY\n",
      "1: https://www.youtube.com/watch?v=lzlea6Ut1Ho\n",
      "2: https://www.youtube.com/watch?v=FGpHSciKReE\n",
      "3: https://www.youtube.com/watch?v=3sxj5pYDmpk\n",
      "4: https://www.youtube.com/watch?v=Rca_Z7mVSG0\n"
     ]
    }
   ],
   "source": [
    "import numpy as np\n",
    "import requests\n",
    "from bs4 import BeautifulSoup\n",
    "\n",
    "\n",
    "def get_video_links(query, start_page, end_page):\n",
    "    video_links = []\n",
    "    for page in range(start_page, end_page + 1):\n",
    "        url = f\"https://www.google.com/search?q={query}&tbm=vid&start={(page-1)*10}\"\n",
    "        headers = {\n",
    "            \"User-Agent\": \"Mozilla/5.0 (Windows NT 10.0; Win64; x64) AppleWebKit/537.36 (KHTML, like Gecko) Chrome/58.0.3029.110 Safari/537.3\"\n",
    "        }\n",
    "\n",
    "        response = requests.get(url, headers=headers)\n",
    "        soup = BeautifulSoup(response.content, \"html.parser\")\n",
    "\n",
    "        for link_idx, link in enumerate(soup.find_all(\"a\")):\n",
    "            href = link.get(\"href\")\n",
    "            if href and \"watch?v=\" in href:\n",
    "                video_links.append(href)\n",
    "        # Remove duplicates\n",
    "        video_links = list(set(video_links))\n",
    "    # Create a numpy ndarray with numeric indices\n",
    "    video_links = np.array(video_links)\n",
    "\n",
    "    # Print the links with numeric indices\n",
    "    for i, link in enumerate(video_links):\n",
    "        print(f\"{i}: {link}\")\n",
    "    return video_links\n",
    "\n",
    "\n",
    "query = \"hydraulics rolling machine manual\"\n",
    "start_page = 1\n",
    "end_page = 3\n",
    "video_links = get_video_links(query, start_page, end_page)\n"
   ]
  }
 ],
 "metadata": {
  "kernelspec": {
   "display_name": "Python 3 (ipykernel)",
   "language": "python",
   "name": "python3"
  },
  "language_info": {
   "codemirror_mode": {
    "name": "ipython",
    "version": 3
   },
   "file_extension": ".py",
   "mimetype": "text/x-python",
   "name": "python",
   "nbconvert_exporter": "python",
   "pygments_lexer": "ipython3",
   "version": "3.11.2"
  }
 },
 "nbformat": 4,
 "nbformat_minor": 5
}
